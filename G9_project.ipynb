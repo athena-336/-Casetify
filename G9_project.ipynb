{
  "nbformat": 4,
  "nbformat_minor": 0,
  "metadata": {
    "colab": {
      "provenance": []
    },
    "kernelspec": {
      "name": "python3",
      "display_name": "Python 3"
    },
    "language_info": {
      "name": "python"
    }
  },
  "cells": [
    {
      "cell_type": "code",
      "execution_count": null,
      "metadata": {
        "id": "v6Mza58hZbhh",
        "colab": {
          "base_uri": "https://localhost:8080/"
        },
        "outputId": "f5134246-5972-4419-fee1-bd5613101d10"
      },
      "outputs": [
        {
          "output_type": "stream",
          "name": "stdout",
          "text": [
            "Looking in indexes: https://pypi.org/simple, https://us-python.pkg.dev/colab-wheels/public/simple/\n",
            "Collecting gurobipy\n",
            "  Downloading gurobipy-9.5.1-cp37-cp37m-manylinux2014_x86_64.whl (11.5 MB)\n",
            "\u001b[K     |████████████████████████████████| 11.5 MB 36.2 MB/s \n",
            "\u001b[?25hInstalling collected packages: gurobipy\n",
            "Successfully installed gurobipy-9.5.1\n"
          ]
        }
      ],
      "source": [
        "%pip install gurobipy\n",
        "import numpy as np\n",
        "import matplotlib.pyplot as plt\n",
        "import random\n",
        "import gurobipy as grb"
      ]
    },
    {
      "cell_type": "code",
      "source": [
        "rank=np.array(range(1,6))\n",
        "a=3.6\n",
        "b=0.14\n",
        "c=6\n",
        "d=0.35\n",
        "keyword=[[],[],[],[],[]]"
      ],
      "metadata": {
        "id": "HnMBNr5XcZBw"
      },
      "execution_count": null,
      "outputs": []
    },
    {
      "cell_type": "code",
      "source": [
        "ctr=[]\n",
        "for i in range(len(rank)):\n",
        "    cal_ctr=round(a*(np.exp((-b)*(i+1))),2)\n",
        "    ctr.append(cal_ctr)\n",
        "ctr=np.array(ctr)\n",
        "ctr"
      ],
      "metadata": {
        "id": "V6B1xzsicMw2",
        "colab": {
          "base_uri": "https://localhost:8080/"
        },
        "outputId": "ce5e1be8-48c9-45a3-cb13-6caeaec6ca86"
      },
      "execution_count": null,
      "outputs": [
        {
          "output_type": "execute_result",
          "data": {
            "text/plain": [
              "array([3.13, 2.72, 2.37, 2.06, 1.79])"
            ]
          },
          "metadata": {},
          "execution_count": 4
        }
      ]
    },
    {
      "cell_type": "code",
      "source": [
        "plt.title(\"CTR\")\n",
        "plt.xlabel(\"Rank\")\n",
        "plt.plot(rank, ctr, marker = \"o\")\n",
        "plt.show()"
      ],
      "metadata": {
        "colab": {
          "base_uri": "https://localhost:8080/",
          "height": 295
        },
        "id": "6xzy-KZY1kYO",
        "outputId": "b4db7d85-9108-4d39-fd98-5c071a7423a2"
      },
      "execution_count": null,
      "outputs": [
        {
          "output_type": "display_data",
          "data": {
            "text/plain": [
              "<Figure size 432x288 with 1 Axes>"
            ],
            "image/png": "[encoded data removed]"
          },
          "metadata": {
            "needs_background": "light"
          }
        }
      ]
    },
    {
      "cell_type": "code",
      "source": [
        "cpc=[]\n",
        "for i in range(len(rank)):\n",
        "    cal_cpc=round(c*(np.exp((-d)*(i+1))),2)\n",
        "    cpc.append(cal_cpc)  \n",
        "cpc=np.array(cpc) \n",
        "cpc"
      ],
      "metadata": {
        "id": "JdZOoEQtd4SR",
        "colab": {
          "base_uri": "https://localhost:8080/"
        },
        "outputId": "b45edc9e-5add-4314-9760-d9882afe472f"
      },
      "execution_count": null,
      "outputs": [
        {
          "output_type": "execute_result",
          "data": {
            "text/plain": [
              "array([4.23, 2.98, 2.1 , 1.48, 1.04])"
            ]
          },
          "metadata": {},
          "execution_count": 8
        }
      ]
    },
    {
      "cell_type": "code",
      "source": [
        "plt.title(\"CPC\")\n",
        "plt.xlabel(\"Rank\")\n",
        "plt.plot(rank, cpc, marker = \"o\")\n",
        "plt.show()"
      ],
      "metadata": {
        "colab": {
          "base_uri": "https://localhost:8080/",
          "height": 295
        },
        "id": "b20RNE2I17sb",
        "outputId": "6cc19fdd-bcdb-4070-9ebe-587cf9e6589e"
      },
      "execution_count": null,
      "outputs": [
        {
          "output_type": "display_data",
          "data": {
            "text/plain": [
              "<Figure size 432x288 with 1 Axes>"
            ],
            "image/png": "[encoded data removed]"
          },
          "metadata": {
            "needs_background": "light"
          }
        }
      ]
    },
    {
      "cell_type": "markdown",
      "source": [
        "##IMP##"
      ],
      "metadata": {
        "id": "B9ZKoGW5X3Xa"
      }
    },
    {
      "cell_type": "code",
      "source": [
        "def tridis(low, mode, high, title, xlabel):\n",
        "  nums = []\n",
        "  x = np.random.default_rng().triangular(low, mode, high, 5000) \n",
        "  weights = np. ones_like(x)/float (len (x))\n",
        "  plt.hist(x, bins=200, weights=weights)\n",
        "  plt.title(title)\n",
        "  plt.xlabel(xlabel)\n",
        "  plt.ylabel('Probability')\n",
        "  plt.show() \n",
        "  nums.append(x)\n",
        "  \n",
        "  return np.median(nums)"
      ],
      "metadata": {
        "id": "OeUBTaP4Anwt"
      },
      "execution_count": null,
      "outputs": []
    },
    {
      "cell_type": "code",
      "source": [
        "imp=np.arange(5)\n",
        "imp[0]=tridis(100000, 450000, 1000000, 'iphone13', 'Impression')\n",
        "imp[1]=tridis(10000, 60500, 100000,'手機殼', 'Impression')\n",
        "imp[2]=tridis(1000, 5400, 10000,'客製化', 'Impression')\n",
        "imp[3]=tridis(1000, 5400, 10000,'防摔手機殼', 'Impression')\n",
        "imp[4]=tridis(1000, 2900, 10000,'手機背帶', 'Impression')\n",
        "imp"
      ],
      "metadata": {
        "colab": {
          "base_uri": "https://localhost:8080/",
          "height": 1000
        },
        "id": "a2le2BtKB89N",
        "outputId": "4863a629-86c9-4f97-e784-d9cff9b4810f"
      },
      "execution_count": null,
      "outputs": [
        {
          "output_type": "display_data",
          "data": {
            "text/plain": [
              "<Figure size 432x288 with 1 Axes>"
            ],
            "image/png": "[encoded data removed]"
          },
          "metadata": {
            "needs_background": "light"
          }
        },
        {
          "output_type": "stream",
          "name": "stderr",
          "text": [
            "/usr/local/lib/python3.7/dist-packages/matplotlib/backends/backend_agg.py:214: RuntimeWarning: Glyph 25163 missing from current font.\n",
            "  font.set_text(s, 0.0, flags=flags)\n",
            "/usr/local/lib/python3.7/dist-packages/matplotlib/backends/backend_agg.py:214: RuntimeWarning: Glyph 27231 missing from current font.\n",
            "  font.set_text(s, 0.0, flags=flags)\n",
            "/usr/local/lib/python3.7/dist-packages/matplotlib/backends/backend_agg.py:214: RuntimeWarning: Glyph 27580 missing from current font.\n",
            "  font.set_text(s, 0.0, flags=flags)\n",
            "/usr/local/lib/python3.7/dist-packages/matplotlib/backends/backend_agg.py:183: RuntimeWarning: Glyph 25163 missing from current font.\n",
            "  font.set_text(s, 0, flags=flags)\n",
            "/usr/local/lib/python3.7/dist-packages/matplotlib/backends/backend_agg.py:183: RuntimeWarning: Glyph 27231 missing from current font.\n",
            "  font.set_text(s, 0, flags=flags)\n",
            "/usr/local/lib/python3.7/dist-packages/matplotlib/backends/backend_agg.py:183: RuntimeWarning: Glyph 27580 missing from current font.\n",
            "  font.set_text(s, 0, flags=flags)\n"
          ]
        },
        {
          "output_type": "display_data",
          "data": {
            "text/plain": [
              "<Figure size 432x288 with 1 Axes>"
            ],
            "image/png": "[encoded data removed]"
          },
          "metadata": {
            "needs_background": "light"
          }
        },
        {
          "output_type": "stream",
          "name": "stderr",
          "text": [
            "/usr/local/lib/python3.7/dist-packages/matplotlib/backends/backend_agg.py:214: RuntimeWarning: Glyph 23458 missing from current font.\n",
            "  font.set_text(s, 0.0, flags=flags)\n",
            "/usr/local/lib/python3.7/dist-packages/matplotlib/backends/backend_agg.py:214: RuntimeWarning: Glyph 35069 missing from current font.\n",
            "  font.set_text(s, 0.0, flags=flags)\n",
            "/usr/local/lib/python3.7/dist-packages/matplotlib/backends/backend_agg.py:214: RuntimeWarning: Glyph 21270 missing from current font.\n",
            "  font.set_text(s, 0.0, flags=flags)\n",
            "/usr/local/lib/python3.7/dist-packages/matplotlib/backends/backend_agg.py:183: RuntimeWarning: Glyph 23458 missing from current font.\n",
            "  font.set_text(s, 0, flags=flags)\n",
            "/usr/local/lib/python3.7/dist-packages/matplotlib/backends/backend_agg.py:183: RuntimeWarning: Glyph 35069 missing from current font.\n",
            "  font.set_text(s, 0, flags=flags)\n",
            "/usr/local/lib/python3.7/dist-packages/matplotlib/backends/backend_agg.py:183: RuntimeWarning: Glyph 21270 missing from current font.\n",
            "  font.set_text(s, 0, flags=flags)\n"
          ]
        },
        {
          "output_type": "display_data",
          "data": {
            "text/plain": [
              "<Figure size 432x288 with 1 Axes>"
            ],
            "image/png": "[encoded data removed]"
          },
          "metadata": {
            "needs_background": "light"
          }
        },
        {
          "output_type": "stream",
          "name": "stderr",
          "text": [
            "/usr/local/lib/python3.7/dist-packages/matplotlib/backends/backend_agg.py:214: RuntimeWarning: Glyph 38450 missing from current font.\n",
            "  font.set_text(s, 0.0, flags=flags)\n",
            "/usr/local/lib/python3.7/dist-packages/matplotlib/backends/backend_agg.py:214: RuntimeWarning: Glyph 25684 missing from current font.\n",
            "  font.set_text(s, 0.0, flags=flags)\n",
            "/usr/local/lib/python3.7/dist-packages/matplotlib/backends/backend_agg.py:183: RuntimeWarning: Glyph 38450 missing from current font.\n",
            "  font.set_text(s, 0, flags=flags)\n",
            "/usr/local/lib/python3.7/dist-packages/matplotlib/backends/backend_agg.py:183: RuntimeWarning: Glyph 25684 missing from current font.\n",
            "  font.set_text(s, 0, flags=flags)\n"
          ]
        },
        {
          "output_type": "display_data",
          "data": {
            "text/plain": [
              "<Figure size 432x288 with 1 Axes>"
            ],
            "image/png": "[encoded data removed]"
          },
          "metadata": {
            "needs_background": "light"
          }
        },
        {
          "output_type": "stream",
          "name": "stderr",
          "text": [
            "/usr/local/lib/python3.7/dist-packages/matplotlib/backends/backend_agg.py:214: RuntimeWarning: Glyph 32972 missing from current font.\n",
            "  font.set_text(s, 0.0, flags=flags)\n",
            "/usr/local/lib/python3.7/dist-packages/matplotlib/backends/backend_agg.py:214: RuntimeWarning: Glyph 24118 missing from current font.\n",
            "  font.set_text(s, 0.0, flags=flags)\n",
            "/usr/local/lib/python3.7/dist-packages/matplotlib/backends/backend_agg.py:183: RuntimeWarning: Glyph 32972 missing from current font.\n",
            "  font.set_text(s, 0, flags=flags)\n",
            "/usr/local/lib/python3.7/dist-packages/matplotlib/backends/backend_agg.py:183: RuntimeWarning: Glyph 24118 missing from current font.\n",
            "  font.set_text(s, 0, flags=flags)\n"
          ]
        },
        {
          "output_type": "display_data",
          "data": {
            "text/plain": [
              "<Figure size 432x288 with 1 Axes>"
            ],
            "image/png": "[encoded data removed]"
          },
          "metadata": {
            "needs_background": "light"
          }
        },
        {
          "output_type": "execute_result",
          "data": {
            "text/plain": [
              "array([499842,  57715,   5450,   5469,   4369])"
            ]
          },
          "metadata": {},
          "execution_count": 9
        }
      ]
    },
    {
      "cell_type": "markdown",
      "source": [
        "##RPC##"
      ],
      "metadata": {
        "id": "YdtipqL5vAnT"
      }
    },
    {
      "cell_type": "code",
      "source": [
        "rpc=np.arange(5)\n",
        "rpc[0]=tridis(0.0088*2.37*3400/100, 0.0093*2.37*3400/100, 0.0098*2.37*3400/100, 'iphone13', 'Revenue per click')\n",
        "rpc[1]=tridis(0.0088*2.37*2900/100, 0.0093*2.37*2900/100, 0.0098*2.37*2900/100, '手機殼', 'Revenue per click')\n",
        "rpc[2]=tridis(0.0088*2.37*3200/100, 0.0093*2.37*3200/100, 0.0098*2.37*3200/100, '客製化', 'Revenue per click')\n",
        "rpc[3]=tridis(0.0088*2.37*4300/100, 0.0093*2.37*4300/100, 0.0098*2.37*4300/100, '防摔手機殼', 'Revenue per click')\n",
        "rpc[4]=tridis(0.0088*2.37*1200/100, 0.0093*2.37*1200/100, 0.0098*2.37*1200/100, '手機背帶', 'Revenue per click')\n",
        "rpc\n"
      ],
      "metadata": {
        "colab": {
          "base_uri": "https://localhost:8080/",
          "height": 1000
        },
        "id": "sdIK3ZzdvnHG",
        "outputId": "8d33b659-d79f-4897-de80-cd9a747ccc65"
      },
      "execution_count": null,
      "outputs": [
        {
          "output_type": "display_data",
          "data": {
            "text/plain": [
              "<Figure size 432x288 with 1 Axes>"
            ],
            "image/png": "[encoded data removed]"
          },
          "metadata": {
            "needs_background": "light"
          }
        },
        {
          "output_type": "stream",
          "name": "stderr",
          "text": [
            "/usr/local/lib/python3.7/dist-packages/matplotlib/backends/backend_agg.py:214: RuntimeWarning: Glyph 25163 missing from current font.\n",
            "  font.set_text(s, 0.0, flags=flags)\n",
            "/usr/local/lib/python3.7/dist-packages/matplotlib/backends/backend_agg.py:214: RuntimeWarning: Glyph 27231 missing from current font.\n",
            "  font.set_text(s, 0.0, flags=flags)\n",
            "/usr/local/lib/python3.7/dist-packages/matplotlib/backends/backend_agg.py:214: RuntimeWarning: Glyph 27580 missing from current font.\n",
            "  font.set_text(s, 0.0, flags=flags)\n",
            "/usr/local/lib/python3.7/dist-packages/matplotlib/backends/backend_agg.py:183: RuntimeWarning: Glyph 25163 missing from current font.\n",
            "  font.set_text(s, 0, flags=flags)\n",
            "/usr/local/lib/python3.7/dist-packages/matplotlib/backends/backend_agg.py:183: RuntimeWarning: Glyph 27231 missing from current font.\n",
            "  font.set_text(s, 0, flags=flags)\n",
            "/usr/local/lib/python3.7/dist-packages/matplotlib/backends/backend_agg.py:183: RuntimeWarning: Glyph 27580 missing from current font.\n",
            "  font.set_text(s, 0, flags=flags)\n"
          ]
        },
        {
          "output_type": "display_data",
          "data": {
            "text/plain": [
              "<Figure size 432x288 with 1 Axes>"
            ],
            "image/png": "[encoded data removed]"
          },
          "metadata": {
            "needs_background": "light"
          }
        },
        {
          "output_type": "stream",
          "name": "stderr",
          "text": [
            "/usr/local/lib/python3.7/dist-packages/matplotlib/backends/backend_agg.py:214: RuntimeWarning: Glyph 23458 missing from current font.\n",
            "  font.set_text(s, 0.0, flags=flags)\n",
            "/usr/local/lib/python3.7/dist-packages/matplotlib/backends/backend_agg.py:214: RuntimeWarning: Glyph 35069 missing from current font.\n",
            "  font.set_text(s, 0.0, flags=flags)\n",
            "/usr/local/lib/python3.7/dist-packages/matplotlib/backends/backend_agg.py:214: RuntimeWarning: Glyph 21270 missing from current font.\n",
            "  font.set_text(s, 0.0, flags=flags)\n",
            "/usr/local/lib/python3.7/dist-packages/matplotlib/backends/backend_agg.py:183: RuntimeWarning: Glyph 23458 missing from current font.\n",
            "  font.set_text(s, 0, flags=flags)\n",
            "/usr/local/lib/python3.7/dist-packages/matplotlib/backends/backend_agg.py:183: RuntimeWarning: Glyph 35069 missing from current font.\n",
            "  font.set_text(s, 0, flags=flags)\n",
            "/usr/local/lib/python3.7/dist-packages/matplotlib/backends/backend_agg.py:183: RuntimeWarning: Glyph 21270 missing from current font.\n",
            "  font.set_text(s, 0, flags=flags)\n"
          ]
        },
        {
          "output_type": "display_data",
          "data": {
            "text/plain": [
              "<Figure size 432x288 with 1 Axes>"
            ],
            "image/png": "[encoded data removed]"
          },
          "metadata": {
            "needs_background": "light"
          }
        },
        {
          "output_type": "stream",
          "name": "stderr",
          "text": [
            "/usr/local/lib/python3.7/dist-packages/matplotlib/backends/backend_agg.py:214: RuntimeWarning: Glyph 38450 missing from current font.\n",
            "  font.set_text(s, 0.0, flags=flags)\n",
            "/usr/local/lib/python3.7/dist-packages/matplotlib/backends/backend_agg.py:214: RuntimeWarning: Glyph 25684 missing from current font.\n",
            "  font.set_text(s, 0.0, flags=flags)\n",
            "/usr/local/lib/python3.7/dist-packages/matplotlib/backends/backend_agg.py:183: RuntimeWarning: Glyph 38450 missing from current font.\n",
            "  font.set_text(s, 0, flags=flags)\n",
            "/usr/local/lib/python3.7/dist-packages/matplotlib/backends/backend_agg.py:183: RuntimeWarning: Glyph 25684 missing from current font.\n",
            "  font.set_text(s, 0, flags=flags)\n"
          ]
        },
        {
          "output_type": "display_data",
          "data": {
            "text/plain": [
              "<Figure size 432x288 with 1 Axes>"
            ],
            "image/png": "[encoded data removed]"
          },
          "metadata": {
            "needs_background": "light"
          }
        },
        {
          "output_type": "stream",
          "name": "stderr",
          "text": [
            "/usr/local/lib/python3.7/dist-packages/matplotlib/backends/backend_agg.py:214: RuntimeWarning: Glyph 32972 missing from current font.\n",
            "  font.set_text(s, 0.0, flags=flags)\n",
            "/usr/local/lib/python3.7/dist-packages/matplotlib/backends/backend_agg.py:214: RuntimeWarning: Glyph 24118 missing from current font.\n",
            "  font.set_text(s, 0.0, flags=flags)\n",
            "/usr/local/lib/python3.7/dist-packages/matplotlib/backends/backend_agg.py:183: RuntimeWarning: Glyph 32972 missing from current font.\n",
            "  font.set_text(s, 0, flags=flags)\n",
            "/usr/local/lib/python3.7/dist-packages/matplotlib/backends/backend_agg.py:183: RuntimeWarning: Glyph 24118 missing from current font.\n",
            "  font.set_text(s, 0, flags=flags)\n"
          ]
        },
        {
          "output_type": "display_data",
          "data": {
            "text/plain": [
              "<Figure size 432x288 with 1 Axes>"
            ],
            "image/png": "[encoded data removed]"
          },
          "metadata": {
            "needs_background": "light"
          }
        },
        {
          "output_type": "execute_result",
          "data": {
            "text/plain": [
              "array([0, 0, 0, 0, 0])"
            ]
          },
          "metadata": {},
          "execution_count": 10
        }
      ]
    },
    {
      "cell_type": "markdown",
      "source": [
        "###**Model**"
      ],
      "metadata": {
        "id": "-04e-7oOtWhL"
      }
    },
    {
      "cell_type": "code",
      "source": [
        "search = np.array([1200,400,150,100,70]) #i13、手機殼、客製化、防摔手機殼、手機背帶"
      ],
      "metadata": {
        "id": "ZV-Ffd2gtcCB"
      },
      "execution_count": null,
      "outputs": []
    },
    {
      "cell_type": "code",
      "source": [
        "i13MaxC = search[0]*ctr/100\n",
        "phonecaseMaxC = search[1]*ctr/100\n",
        "customizedMaxC = search[2]*ctr/100\n",
        "spphonecaseMaxC = search[3]*ctr/100\n",
        "strapMaxC = search[4]*ctr/100"
      ],
      "metadata": {
        "id": "LvMi6bhIuN3Y"
      },
      "execution_count": null,
      "outputs": []
    },
    {
      "cell_type": "code",
      "source": [
        "i13BL = np.array([5000,6250,7500,8750,10000])\n",
        "phonecaseBL = np.array([1000,1125,1500,1750,2000])\n",
        "customizedBL = np.array([100,200,300,400,500])\n",
        "spphonecaseBL = np.array([100,200,300,400,500])\n",
        "strapBL = np.array([100,200,300,400,500])"
      ],
      "metadata": {
        "id": "XMDq9Hhzvp_P"
      },
      "execution_count": null,
      "outputs": []
    },
    {
      "cell_type": "code",
      "source": [
        "i13clicks = []\n",
        "for i in range(len(rank)):\n",
        "  for j in range(len(cpc)):\n",
        "    clicks = round(i13BL[i]/cpc[j])\n",
        "    if(j==0 and clicks>3756):\n",
        "      clicks = 3756\n",
        "    if(j==1 and clicks>3265):\n",
        "      clicks = 3265\n",
        "    if(j==2 and clicks>2838):\n",
        "      clicks = 2838\n",
        "    if(j==3 and clicks>2468):\n",
        "      clicks = 2468\n",
        "    if(j==4 and clicks>2145):\n",
        "      clicks = 2145\n",
        "    i13clicks.append(clicks)"
      ],
      "metadata": {
        "id": "2OlAjIlGvrEK"
      },
      "execution_count": null,
      "outputs": []
    },
    {
      "cell_type": "code",
      "source": [
        "i13clicksmix = []\n",
        "i13clicksmix.append(np.max(i13clicks[0:5]))\n",
        "i13clicksmix.append(np.max(i13clicks[5:10]))\n",
        "i13clicksmix.append(np.max(i13clicks[10:15]))\n",
        "i13clicksmix.append(np.max(i13clicks[15:20]))\n",
        "i13clicksmix.append(np.max(i13clicks[20:25]))"
      ],
      "metadata": {
        "id": "VOh5nkeM53ug"
      },
      "execution_count": null,
      "outputs": []
    },
    {
      "cell_type": "code",
      "source": [
        "i13clicksbestrank = []\n",
        "i13clicksbestrank.append(i13clicks.index(np.max(i13clicks[0:5]))%5+1)\n",
        "i13clicksbestrank.append(i13clicks.index(np.max(i13clicks[5:10]))%5+1)\n",
        "i13clicksbestrank.append(i13clicks.index(np.max(i13clicks[10:15]))%5+1)\n",
        "i13clicksbestrank.append(i13clicks.index(np.max(i13clicks[15:20]))%5+1)\n",
        "i13clicksbestrank.append(i13clicks.index(np.max(i13clicks[20:25]))%5+1)\n",
        "print(i13clicksbestrank)\n",
        "print(i13clicksmix)"
      ],
      "metadata": {
        "colab": {
          "base_uri": "https://localhost:8080/"
        },
        "id": "NY6h2a8W6feG",
        "outputId": "14949fdb-64d9-46d8-cbf9-5ebac5e0965a"
      },
      "execution_count": null,
      "outputs": [
        {
          "output_type": "stream",
          "name": "stdout",
          "text": [
            "[4, 3, 3, 2, 2]\n",
            "[2468, 2838, 2838, 2936, 3265]\n"
          ]
        }
      ]
    },
    {
      "cell_type": "code",
      "source": [
        "phonecaseclicks = []\n",
        "for i in range(len(rank)):\n",
        "  for j in range(len(cpc)):\n",
        "    clicks = round(phonecaseBL[i]/cpc[j])\n",
        "    if(j==0 and clicks>1252):\n",
        "      clicks = 1252\n",
        "    if(j==1 and clicks>1088):\n",
        "      clicks = 1088\n",
        "    if(j==2 and clicks>946):\n",
        "      clicks = 946\n",
        "    if(j==3 and clicks>823):\n",
        "      clicks = 823\n",
        "    if(j==4 and clicks>715):\n",
        "      clicks = 715\n",
        "    phonecaseclicks.append(clicks)"
      ],
      "metadata": {
        "id": "8mGYoAJg6hLU"
      },
      "execution_count": null,
      "outputs": []
    },
    {
      "cell_type": "code",
      "source": [
        "phonecaseclicksmix = []\n",
        "phonecaseclicksmix.append(np.max(phonecaseclicks[0:5]))\n",
        "phonecaseclicksmix.append(np.max(phonecaseclicks[5:10]))\n",
        "phonecaseclicksmix.append(np.max(phonecaseclicks[10:15]))\n",
        "phonecaseclicksmix.append(np.max(phonecaseclicks[15:20]))\n",
        "phonecaseclicksmix.append(np.max(phonecaseclicks[20:25]))"
      ],
      "metadata": {
        "id": "a6dLPxzR6iIH"
      },
      "execution_count": null,
      "outputs": []
    },
    {
      "cell_type": "code",
      "source": [
        "phonecaseclicksbestrank = []\n",
        "phonecaseclicksbestrank.append(phonecaseclicks.index(np.max(phonecaseclicks[0:5]))%5+1)\n",
        "phonecaseclicksbestrank.append(phonecaseclicks.index(np.max(phonecaseclicks[5:10]))%5+1)\n",
        "phonecaseclicksbestrank.append(phonecaseclicks.index(np.max(phonecaseclicks[10:15]))%5+1)\n",
        "phonecaseclicksbestrank.append(phonecaseclicks.index(np.max(phonecaseclicks[15:20]))%5+1)\n",
        "phonecaseclicksbestrank.append(phonecaseclicks.index(np.max(phonecaseclicks[20:25]))%5+1)\n",
        "print(phonecaseclicksbestrank)\n",
        "print(phonecaseclicksmix)"
      ],
      "metadata": {
        "colab": {
          "base_uri": "https://localhost:8080/"
        },
        "id": "ctY65Ota6jyz",
        "outputId": "935168ea-7cc9-4708-8ccc-d6b617f4a61c"
      },
      "execution_count": null,
      "outputs": [
        {
          "output_type": "stream",
          "name": "stdout",
          "text": [
            "[5, 4, 4, 3, 3]\n",
            "[715, 760, 823, 833, 946]\n"
          ]
        }
      ]
    },
    {
      "cell_type": "code",
      "source": [
        "customizedclicks = []\n",
        "for i in range(len(rank)):\n",
        "  for j in range(len(cpc)):\n",
        "    clicks = round(customizedBL[i]/cpc[j])\n",
        "    if(j==0 and clicks>469):\n",
        "      clicks = 469\n",
        "    if(j==1 and clicks>408):\n",
        "      clicks = 408\n",
        "    if(j==2 and clicks>355):\n",
        "      clicks = 355\n",
        "    if(j==3 and clicks>308):\n",
        "      clicks = 308\n",
        "    if(j==4 and clicks>268):\n",
        "      clicks = 268\n",
        "    customizedclicks.append(clicks)"
      ],
      "metadata": {
        "id": "1SzQy3q36lQq"
      },
      "execution_count": null,
      "outputs": []
    },
    {
      "cell_type": "code",
      "source": [
        "customizedclicksmix = []\n",
        "customizedclicksmix.append(np.max(customizedclicks[0:5]))\n",
        "customizedclicksmix.append(np.max(customizedclicks[5:10]))\n",
        "customizedclicksmix.append(np.max(customizedclicks[10:15]))\n",
        "customizedclicksmix.append(np.max(customizedclicks[15:20]))\n",
        "customizedclicksmix.append(np.max(customizedclicks[20:25]))"
      ],
      "metadata": {
        "id": "8D7nF6wc6mhb"
      },
      "execution_count": null,
      "outputs": []
    },
    {
      "cell_type": "code",
      "source": [
        "customizedclicksbestrank = []\n",
        "customizedclicksbestrank.append(customizedclicks.index(np.max(customizedclicks[0:5]))%5+1)\n",
        "customizedclicksbestrank.append(customizedclicks.index(np.max(customizedclicks[5:10]))%5+1)\n",
        "customizedclicksbestrank.append(customizedclicks.index(np.max(customizedclicks[10:15]))%5+1)\n",
        "customizedclicksbestrank.append(customizedclicks.index(np.max(customizedclicks[15:20]))%5+1)\n",
        "customizedclicksbestrank.append(customizedclicks.index(np.max(customizedclicks[20:25]))%5+1)\n",
        "print(customizedclicksbestrank)\n",
        "print(customizedclicksmix)"
      ],
      "metadata": {
        "colab": {
          "base_uri": "https://localhost:8080/"
        },
        "id": "OkeECUp16oaL",
        "outputId": "f7f566a8-1c3e-44e6-ec9e-51c178add191"
      },
      "execution_count": null,
      "outputs": [
        {
          "output_type": "stream",
          "name": "stdout",
          "text": [
            "[5, 5, 5, 4, 4]\n",
            "[96, 192, 268, 270, 308]\n"
          ]
        }
      ]
    },
    {
      "cell_type": "code",
      "source": [
        "spphonecaseclicks = []\n",
        "for i in range(len(rank)):\n",
        "  for j in range(len(cpc)):\n",
        "    clicks = round(spphonecaseBL[i]/cpc[j])\n",
        "    if(j==0 and clicks>313):\n",
        "      clicks = 313\n",
        "    if(j==1 and clicks>272):\n",
        "      clicks = 272\n",
        "    if(j==2 and clicks>237):\n",
        "      clicks = 237\n",
        "    if(j==3 and clicks>206):\n",
        "      clicks = 206\n",
        "    if(j==4 and clicks>179):\n",
        "      clicks = 179\n",
        "    spphonecaseclicks.append(clicks)"
      ],
      "metadata": {
        "id": "hLLRibLG6pCe"
      },
      "execution_count": null,
      "outputs": []
    },
    {
      "cell_type": "code",
      "source": [
        "spphonecaseclicksmix = []\n",
        "spphonecaseclicksmix.append(np.max(spphonecaseclicks[0:5]))\n",
        "spphonecaseclicksmix.append(np.max(spphonecaseclicks[5:10]))\n",
        "spphonecaseclicksmix.append(np.max(spphonecaseclicks[10:15]))\n",
        "spphonecaseclicksmix.append(np.max(spphonecaseclicks[15:20]))\n",
        "spphonecaseclicksmix.append(np.max(spphonecaseclicks[20:25]))"
      ],
      "metadata": {
        "id": "85VcOvHm6qMy"
      },
      "execution_count": null,
      "outputs": []
    },
    {
      "cell_type": "code",
      "source": [
        "spphonecaseclicksbestrank = []\n",
        "spphonecaseclicksbestrank.append(spphonecaseclicks.index(np.max(spphonecaseclicks[0:5]))%5+1)\n",
        "spphonecaseclicksbestrank.append(spphonecaseclicks.index(np.max(spphonecaseclicks[5:10]))%5+1)\n",
        "spphonecaseclicksbestrank.append(spphonecaseclicks.index(np.max(spphonecaseclicks[10:15]))%5+1)\n",
        "spphonecaseclicksbestrank.append(spphonecaseclicks.index(np.max(spphonecaseclicks[15:20]))%5+1)\n",
        "spphonecaseclicksbestrank.append(spphonecaseclicks.index(np.max(spphonecaseclicks[20:25]))%5+1)\n",
        "print(spphonecaseclicksbestrank)\n",
        "print(spphonecaseclicksmix)"
      ],
      "metadata": {
        "colab": {
          "base_uri": "https://localhost:8080/"
        },
        "id": "0YIUNFfQ6rkI",
        "outputId": "85dbf412-bc56-4ec8-ae71-2e99265c38af"
      },
      "execution_count": null,
      "outputs": [
        {
          "output_type": "stream",
          "name": "stdout",
          "text": [
            "[5, 5, 4, 4, 3]\n",
            "[96, 179, 203, 206, 237]\n"
          ]
        }
      ]
    },
    {
      "cell_type": "code",
      "source": [
        "strapclicks = []\n",
        "for i in range(len(rank)):\n",
        "  for j in range(len(cpc)):\n",
        "    clicks = round(strapBL[i]/cpc[j])\n",
        "    if(j==0 and clicks>313):\n",
        "      clicks = 313\n",
        "    if(j==1 and clicks>272):\n",
        "      clicks = 272\n",
        "    if(j==2 and clicks>237):\n",
        "      clicks = 237\n",
        "    if(j==3 and clicks>206):\n",
        "      clicks = 206\n",
        "    if(j==4 and clicks>179):\n",
        "      clicks = 179\n",
        "    strapclicks.append(clicks)"
      ],
      "metadata": {
        "id": "DqZo7T5c6slr"
      },
      "execution_count": null,
      "outputs": []
    },
    {
      "cell_type": "code",
      "source": [
        "strapclicksmix = []\n",
        "strapclicksmix.append(np.max(strapclicks[0:5]))\n",
        "strapclicksmix.append(np.max(strapclicks[5:10]))\n",
        "strapclicksmix.append(np.max(strapclicks[10:15]))\n",
        "strapclicksmix.append(np.max(strapclicks[15:20]))\n",
        "strapclicksmix.append(np.max(strapclicks[20:25]))"
      ],
      "metadata": {
        "id": "v9l9EUwH6upL"
      },
      "execution_count": null,
      "outputs": []
    },
    {
      "cell_type": "code",
      "source": [
        "strapclicksbestrank = []\n",
        "strapclicksbestrank.append(strapclicks.index(np.max(spphonecaseclicks[0:5]))%5+1)\n",
        "strapclicksbestrank.append(strapclicks.index(np.max(spphonecaseclicks[5:10]))%5+1)\n",
        "strapclicksbestrank.append(strapclicks.index(np.max(spphonecaseclicks[10:15]))%5+1)\n",
        "strapclicksbestrank.append(strapclicks.index(np.max(spphonecaseclicks[15:20]))%5+1)\n",
        "strapclicksbestrank.append(strapclicks.index(np.max(spphonecaseclicks[20:25]))%5+1)\n",
        "print(strapclicksbestrank)\n",
        "print(strapclicksmix)"
      ],
      "metadata": {
        "colab": {
          "base_uri": "https://localhost:8080/"
        },
        "id": "pGza6wVn6vPa",
        "outputId": "b351ea68-3f74-4c3e-dadd-bc18947af100"
      },
      "execution_count": null,
      "outputs": [
        {
          "output_type": "stream",
          "name": "stdout",
          "text": [
            "[5, 5, 4, 4, 3]\n",
            "[96, 179, 203, 206, 237]\n"
          ]
        }
      ]
    },
    {
      "cell_type": "code",
      "source": [
        "print(\"i13:\"+str(i13clicksbestrank))\n",
        "print(i13clicksmix)\n",
        "print()\n",
        "print(\"手機殼:\"+str(phonecaseclicksbestrank))\n",
        "print(phonecaseclicksmix)\n",
        "print()\n",
        "print(\"客製化:\"+str(customizedclicksbestrank))\n",
        "print(customizedclicksmix)\n",
        "print()\n",
        "print(\"防摔手機殼:\"+str(spphonecaseclicksbestrank))\n",
        "print(spphonecaseclicksmix)\n",
        "print()\n",
        "print(\"手機背帶:\"+str(strapclicksbestrank))\n",
        "print(strapclicksmix)"
      ],
      "metadata": {
        "colab": {
          "base_uri": "https://localhost:8080/"
        },
        "id": "BNH9kMo5wmgy",
        "outputId": "c61fd4a8-6005-48d5-d95a-50b06c2fa7e7"
      },
      "execution_count": null,
      "outputs": [
        {
          "output_type": "stream",
          "name": "stdout",
          "text": [
            "i13:[4, 3, 3, 2, 2]\n",
            "[2468, 2838, 2838, 2936, 3265]\n",
            "\n",
            "手機殼:[5, 4, 4, 3, 3]\n",
            "[715, 760, 823, 833, 946]\n",
            "\n",
            "客製化:[5, 5, 5, 4, 4]\n",
            "[96, 192, 268, 270, 308]\n",
            "\n",
            "防摔手機殼:[5, 5, 4, 4, 3]\n",
            "[96, 179, 203, 206, 237]\n",
            "\n",
            "手機背帶:[5, 5, 4, 4, 3]\n",
            "[96, 179, 203, 206, 237]\n"
          ]
        }
      ]
    },
    {
      "cell_type": "code",
      "source": [
        "MCM = grb.Model('Max Click Model')\n",
        "B = 5\n",
        "i13_vars={}\n",
        "phonecase_vars={}\n",
        "customized_vars={}\n",
        "spphonecase_vars={}\n",
        "strap_vars={}\n",
        "for i in range(B):\n",
        "  i13_vars[i]=MCM.addVar(vtype=grb.GRB.INTEGER, name='i13_budgetlevel'+str(i+1))\n",
        "for i in range(B):\n",
        "  phonecase_vars[i]=MCM.addVar(vtype=grb.GRB.INTEGER, name='phonecase_budgetlevel'+str(i+1))\n",
        "for i in range(B):\n",
        "  customized_vars[i]=MCM.addVar(vtype=grb.GRB.INTEGER, name='customized_budgetlevel'+str(i+1))\n",
        "for i in range(B):\n",
        "  spphonecase_vars[i]=MCM.addVar(vtype=grb.GRB.INTEGER, name='spphonecase_budegtlevel'+str(i+1))\n",
        "for i in range(B):\n",
        "  strap_vars[i]=MCM.addVar(vtype=grb.GRB.INTEGER, name='strap_budegtlevel'+str(i+1))\n",
        "i13_vars\n",
        "phonecase_vars\n",
        "customized_vars\n",
        "spphonecase_vars\n",
        "strap_vars"
      ],
      "metadata": {
        "id": "d0WmS1M5ZoDE",
        "colab": {
          "base_uri": "https://localhost:8080/"
        },
        "outputId": "bd35042f-9fe8-4b1d-d474-4d4ab6e2ab79"
      },
      "execution_count": null,
      "outputs": [
        {
          "output_type": "execute_result",
          "data": {
            "text/plain": [
              "{0: <gurobi.Var *Awaiting Model Update*>,\n",
              " 1: <gurobi.Var *Awaiting Model Update*>,\n",
              " 2: <gurobi.Var *Awaiting Model Update*>,\n",
              " 3: <gurobi.Var *Awaiting Model Update*>,\n",
              " 4: <gurobi.Var *Awaiting Model Update*>}"
            ]
          },
          "metadata": {},
          "execution_count": 79
        }
      ]
    },
    {
      "cell_type": "code",
      "source": [
        "MCM.addConstr(i13BL[0]*i13_vars[0]+i13BL[1]*i13_vars[1]+i13BL[2]*i13_vars[2]+i13BL[3]*i13_vars[3]+i13BL[4]*i13_vars[4]\n",
        "    +phonecaseBL[0]*phonecase_vars[0]+phonecaseBL[1]*phonecase_vars[1]+phonecaseBL[2]*phonecase_vars[2]+phonecaseBL[3]*phonecase_vars[3]+phonecaseBL[4]*phonecase_vars[4]\n",
        "    +customizedBL[0]*customized_vars[0]+customizedBL[1]*customized_vars[1]+customizedBL[2]*customized_vars[2]+customizedBL[3]*customized_vars[3]+customizedBL[4]*customized_vars[4]\n",
        "    +spphonecaseBL[0]*spphonecase_vars[0]+spphonecaseBL[1]*spphonecase_vars[1]+spphonecaseBL[2]*spphonecase_vars[2]+spphonecaseBL[3]*spphonecase_vars[3]+spphonecaseBL[4]*spphonecase_vars[4]\n",
        "    +strapBL[0]*strap_vars[0]+strapBL[1]*strap_vars[1]+strapBL[2]*strap_vars[2]+strapBL[3]*strap_vars[3]+strapBL[4]*strap_vars[4]<=10000)\n",
        "MCM.addConstr(i13_vars[0]+i13_vars[1]+i13_vars[2]+i13_vars[3]+i13_vars[4]==1)\n",
        "MCM.addConstr(phonecase_vars[0]+phonecase_vars[1]+phonecase_vars[2]+phonecase_vars[3]+phonecase_vars[4]==1)\n",
        "MCM.addConstr(customized_vars[0]+customized_vars[1]+customized_vars[2]+customized_vars[3]+customized_vars[4]==1)\n",
        "MCM.addConstr(spphonecase_vars[0]+spphonecase_vars[1]+spphonecase_vars[2]+spphonecase_vars[3]+spphonecase_vars[4]==1)\n",
        "MCM.addConstr(strap_vars[0]+strap_vars[1]+strap_vars[2]+strap_vars[3]+strap_vars[4]==1)\n",
        "\n",
        "\n",
        "MCM.addConstr(i13_vars[0]>=0)\n",
        "MCM.addConstr(i13_vars[1]>=0)\n",
        "MCM.addConstr(i13_vars[2]>=0)\n",
        "MCM.addConstr(i13_vars[3]>=0)\n",
        "MCM.addConstr(i13_vars[4]>=0)\n",
        "\n",
        "MCM.addConstr(phonecase_vars[0]>=0)\n",
        "MCM.addConstr(phonecase_vars[1]>=0)\n",
        "MCM.addConstr(phonecase_vars[2]>=0)\n",
        "MCM.addConstr(phonecase_vars[3]>=0)\n",
        "MCM.addConstr(phonecase_vars[4]>=0)\n",
        "\n",
        "MCM.addConstr(customized_vars[0]>=0)\n",
        "MCM.addConstr(customized_vars[1]>=0)\n",
        "MCM.addConstr(customized_vars[2]>=0)\n",
        "MCM.addConstr(customized_vars[3]>=0)\n",
        "MCM.addConstr(customized_vars[4]>=0)\n",
        "\n",
        "MCM.addConstr(spphonecase_vars[0]>=0)\n",
        "MCM.addConstr(spphonecase_vars[1]>=0)\n",
        "MCM.addConstr(spphonecase_vars[2]>=0)\n",
        "MCM.addConstr(spphonecase_vars[3]>=0)\n",
        "MCM.addConstr(spphonecase_vars[4]>=0)\n",
        "\n",
        "MCM.addConstr(strap_vars[0]>=0)\n",
        "MCM.addConstr(strap_vars[1]>=0)\n",
        "MCM.addConstr(strap_vars[2]>=0)\n",
        "MCM.addConstr(strap_vars[3]>=0)\n",
        "MCM.addConstr(strap_vars[4]>=0)"
      ],
      "metadata": {
        "colab": {
          "base_uri": "https://localhost:8080/"
        },
        "id": "wZRDPK0hMJ4U",
        "outputId": "eca4732e-9739-4817-fd07-1ec533a9351d"
      },
      "execution_count": null,
      "outputs": [
        {
          "output_type": "execute_result",
          "data": {
            "text/plain": [
              "<gurobi.Constr *Awaiting Model Update*>"
            ]
          },
          "metadata": {},
          "execution_count": 80
        }
      ]
    },
    {
      "cell_type": "code",
      "source": [
        "obj =i13clicksmix[0]*i13_vars[0]+i13clicksmix[1]*i13_vars[1]+i13clicksmix[2]*i13_vars[2]+i13clicksmix[3]*i13_vars[3]+i13clicksmix[4]*i13_vars[4]+phonecaseclicksmix[0]*phonecase_vars[0]+phonecaseclicksmix[1]*phonecase_vars[1]+phonecaseclicksmix[2]*phonecase_vars[2]+phonecaseclicksmix[3]*phonecase_vars[3]+phonecaseclicksmix[4]*phonecase_vars[4]+customizedclicksmix[0]*customized_vars[0]+customizedclicksmix[1]*customized_vars[1]+customizedclicksmix[2]*customized_vars[2]+customizedclicksmix[3]*customized_vars[3]+customizedclicksmix[4]*customized_vars[4]+spphonecaseclicksmix[0]*spphonecase_vars[0]+spphonecaseclicksmix[1]*spphonecase_vars[1]+spphonecaseclicksmix[2]*spphonecase_vars[2]+spphonecaseclicksmix[3]*spphonecase_vars[3]+spphonecaseclicksmix[4]*spphonecase_vars[4]+strapclicksmix[0]*strap_vars[0]+strapclicksmix[1]*strap_vars[1]+strapclicksmix[2]*strap_vars[2]+strapclicksmix[3]*strap_vars[3]+strapclicksmix[4]*strap_vars[4]\n",
        "\n",
        "MCM.setObjective(obj,grb.GRB.MAXIMIZE)\n",
        "MCM.update()\n",
        "MCM.optimize()"
      ],
      "metadata": {
        "colab": {
          "base_uri": "https://localhost:8080/"
        },
        "id": "dwCBK9tEPo0F",
        "outputId": "452e67e6-3c73-44fb-a08d-e2ca13ad441a"
      },
      "execution_count": null,
      "outputs": [
        {
          "output_type": "stream",
          "name": "stdout",
          "text": [
            "Gurobi Optimizer version 9.5.1 build v9.5.1rc2 (linux64)\n",
            "Thread count: 1 physical cores, 2 logical processors, using up to 2 threads\n",
            "Optimize a model with 31 rows, 25 columns and 75 nonzeros\n",
            "Model fingerprint: 0x22cba5c6\n",
            "Variable types: 0 continuous, 25 integer (0 binary)\n",
            "Coefficient statistics:\n",
            "  Matrix range     [1e+00, 1e+04]\n",
            "  Objective range  [1e+02, 3e+03]\n",
            "  Bounds range     [0e+00, 0e+00]\n",
            "  RHS range        [1e+00, 1e+04]\n",
            "Found heuristic solution: objective 3790.0000000\n",
            "Presolve removed 31 rows and 25 columns\n",
            "Presolve time: 0.00s\n",
            "Presolve: All rows and columns removed\n",
            "\n",
            "Explored 0 nodes (0 simplex iterations) in 0.02 seconds (0.00 work units)\n",
            "Thread count was 1 (of 2 available processors)\n",
            "\n",
            "Solution count 2: 4566 3790 \n",
            "\n",
            "Optimal solution found (tolerance 1.00e-04)\n",
            "Best objective 4.566000000000e+03, best bound 4.566000000000e+03, gap 0.0000%\n"
          ]
        }
      ]
    },
    {
      "cell_type": "code",
      "source": [
        "print(MCM.Status == grb.GRB.OPTIMAL)\n",
        "\n",
        "for v in MCM.getVars():\n",
        "  print(v.VarName, v.X)\n",
        "\n",
        "print(MCM.objVal)"
      ],
      "metadata": {
        "colab": {
          "base_uri": "https://localhost:8080/"
        },
        "id": "Jg7EjZtNTaAe",
        "outputId": "c612a83b-c05b-4261-ed74-6901c4607d7f"
      },
      "execution_count": null,
      "outputs": [
        {
          "output_type": "stream",
          "name": "stdout",
          "text": [
            "True\n",
            "i13_budgetlevel1 0.0\n",
            "i13_budgetlevel2 1.0\n",
            "i13_budgetlevel3 -0.0\n",
            "i13_budgetlevel4 0.0\n",
            "i13_budgetlevel5 0.0\n",
            "phonecase_budgetlevel1 0.0\n",
            "phonecase_budgetlevel2 -0.0\n",
            "phonecase_budgetlevel3 -0.0\n",
            "phonecase_budgetlevel4 -0.0\n",
            "phonecase_budgetlevel5 1.0\n",
            "customized_budgetlevel1 0.0\n",
            "customized_budgetlevel2 -0.0\n",
            "customized_budgetlevel3 -0.0\n",
            "customized_budgetlevel4 -0.0\n",
            "customized_budgetlevel5 1.0\n",
            "spphonecase_budegtlevel1 0.0\n",
            "spphonecase_budegtlevel2 -0.0\n",
            "spphonecase_budegtlevel3 -0.0\n",
            "spphonecase_budegtlevel4 -0.0\n",
            "spphonecase_budegtlevel5 1.0\n",
            "strap_budegtlevel1 0.0\n",
            "strap_budegtlevel2 -0.0\n",
            "strap_budegtlevel3 -0.0\n",
            "strap_budegtlevel4 -0.0\n",
            "strap_budegtlevel5 1.0\n",
            "4566.0\n"
          ]
        }
      ]
    },
    {
      "cell_type": "code",
      "source": [
        "Budget=[7000,8000,9000,10000,11000,12000,13000]\n",
        "Clicks=[3878,4179,4410,4566,4566,4675,4901]\n",
        "plt.figure(figsize=(10,5),dpi=100,linewidth=2)\n",
        "plt.plot(Budget,Clicks,'s-',color='r')\n",
        "plt.title(\"Max Clicks\")\n",
        "plt.xlabel(\"Budget\",fontsize=12)\n",
        "plt.ylabel('Clicks',fontsize=12)"
      ],
      "metadata": {
        "colab": {
          "base_uri": "https://localhost:8080/",
          "height": 502
        },
        "id": "Z9uSB7wGbpUE",
        "outputId": "c593789a-2f40-477a-be21-52117504bdbd"
      },
      "execution_count": null,
      "outputs": [
        {
          "output_type": "execute_result",
          "data": {
            "text/plain": [
              "Text(0, 0.5, 'Clicks')"
            ]
          },
          "metadata": {},
          "execution_count": 69
        },
        {
          "output_type": "display_data",
          "data": {
            "text/plain": [
              "<Figure size 1000x500 with 1 Axes>"
            ],
            "image/png": "[encoded data removed]"
          },
          "metadata": {
            "needs_background": "light"
          }
        }
      ]
    },
    {
      "cell_type": "code",
      "source": [
        "#total cost\n",
        "#7000 1/2/3/2/3 5455.44\n",
        "#8000 2/1/3/2/2 7368.05\n",
        "#9000 2/5/3/2/2 8611.08\n",
        "#10000 2/5/5/5/5 9400.58\n",
        "#11000 2/5/5/5/5 (2838*2.1)+(946*2.1)+(308*1.48)+(237*2.1)+(168*2.98)=9400.58\n",
        "#12000 5/2/3/2/3 (3265*2.98)+(760*1.48)+(268*1.04)+(179*1.04)+(144*1.48)=11532.5\n",
        "#13000 5/5/5/3/2 (3265*2.98)+(946*2.1)+(308*1.48)+(203*1.48)+(135*1.48)=12672.38"
      ],
      "metadata": {
        "id": "hnlhzJz9vn_w"
      },
      "execution_count": null,
      "outputs": []
    },
    {
      "cell_type": "code",
      "source": [
        "Budget=[7000,8000,9000,10000,11000,12000,13000]\n",
        "Cost=[5455.44,7368.05,8611.08,9400.58,9400.58,11532.5,12672.38]\n",
        "plt.figure(figsize=(10,5),dpi=100,linewidth=2)\n",
        "plt.plot(Budget,Cost,'s-',color='b')\n",
        "plt.title(\"Total Cost\")\n",
        "plt.xlabel(\"Budget\",fontsize=12)\n",
        "plt.ylabel('Cost',fontsize=12)"
      ],
      "metadata": {
        "id": "GpGsBhXPsYeV",
        "colab": {
          "base_uri": "https://localhost:8080/",
          "height": 502
        },
        "outputId": "5219b70c-9f0b-453e-9b17-dd71685eb887"
      },
      "execution_count": null,
      "outputs": [
        {
          "output_type": "execute_result",
          "data": {
            "text/plain": [
              "Text(0, 0.5, 'Cost')"
            ]
          },
          "metadata": {},
          "execution_count": 71
        },
        {
          "output_type": "display_data",
          "data": {
            "text/plain": [
              "<Figure size 1000x500 with 1 Axes>"
            ],
            "image/png": "[encoded data removed]"
          },
          "metadata": {
            "needs_background": "light"
          }
        }
      ]
    },
    {
      "cell_type": "code",
      "source": [
        "#total revenue\n",
        "#(Ctr*預計購買價*轉換率/100)*點擊數 (rpc*點擊數)\n",
        "#7000 1/2/3/2/3 (0.0093/100)*[(2.06*3400*2468)+(2.06*2900*760)+(1.79*3200*823)+(1.79*4300*192)+(2.06*1200*203)]=2652.35033              \n",
        "#8000 2/1/3/2/2 (0.0093/100)*[(2.37*3400*2838)+(1.79*2900*715)+(1.79*3200*268)+(1.79*4300*179)+(2.06*1200*135)]=2773.88831\n",
        "#9000 2/5/3/2/2 (0.0093/100)*[(2.37*3400*2838)+(2.37*2900*946)+(1.79*3200*268)+(1.79*4300*179)+(2.06*1200*135)]=3033.38556\n",
        "#10000 2/5/5/5/5 (0.0093/100)*[(2.37*3400*2838)+(2.37*2900*946)+(2.06*3200*308)+(2.37*4300*237)+(2.72*1200*168)]=3195.89078\n",
        "#11000 2/5/5/5/5 (0.0093/100)*[(2.37*3400*2838)+(2.37*2900*946)+(2.06*3200*308)+(2.37*4300*237)+(2.72*1200*168)]=3195.89078\n",
        "#12000 5/2/3/2/3 (0.0093/100)*[(2.72*3400*3265)+(2.06*2900*760)+(1.79*3200*268)+(1.79*4300*179)+(2.06*1200*144)]=3534.35293\n",
        "#13000 5/5/5/3/2 (0.0093/100)*[(2.72*3400*3265)+(2.37*2900*946)+(2.06*3200*308)+(2.06*4300*203)+(2.06*1200*135)]=3799.86914"
      ],
      "metadata": {
        "id": "Fas4rxiBRSvu"
      },
      "execution_count": null,
      "outputs": []
    },
    {
      "cell_type": "code",
      "source": [
        "Budget=[7000,8000,9000,10000,11000,12000,13000]\n",
        "Revenue=[2652.35033,2773.88831,3033.38556,3195.89078,3195.89078,3534.35293,3799.86914]\n",
        "plt.figure(figsize=(10,5),dpi=100,linewidth=2)\n",
        "plt.plot(Budget,Revenue,'s-',color='g')\n",
        "plt.title(\"Total Revenue\")\n",
        "plt.xlabel(\"Budget\",fontsize=12)\n",
        "plt.ylabel('Revenue',fontsize=12)"
      ],
      "metadata": {
        "colab": {
          "base_uri": "https://localhost:8080/",
          "height": 502
        },
        "id": "vYFV-_RT0HPF",
        "outputId": "f699cc24-344b-4cb0-911e-cc77927bcf72"
      },
      "execution_count": null,
      "outputs": [
        {
          "output_type": "execute_result",
          "data": {
            "text/plain": [
              "Text(0, 0.5, 'Revenue')"
            ]
          },
          "metadata": {},
          "execution_count": 73
        },
        {
          "output_type": "display_data",
          "data": {
            "text/plain": [
              "<Figure size 1000x500 with 1 Axes>"
            ],
            "image/png": "[encoded data removed]"
          },
          "metadata": {
            "needs_background": "light"
          }
        }
      ]
    },
    {
      "cell_type": "code",
      "source": [],
      "metadata": {
        "id": "3lnPuDygw7QO"
      },
      "execution_count": null,
      "outputs": []
    }
  ]
}